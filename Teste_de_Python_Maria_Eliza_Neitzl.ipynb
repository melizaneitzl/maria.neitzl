{
  "nbformat": 4,
  "nbformat_minor": 0,
  "metadata": {
    "colab": {
      "provenance": []
    },
    "kernelspec": {
      "name": "python3",
      "display_name": "Python 3"
    },
    "language_info": {
      "name": "python"
    }
  },
  "cells": [
    {
      "cell_type": "code",
      "execution_count": 43,
      "metadata": {
        "id": "GW8S1RsWiIkC"
      },
      "outputs": [],
      "source": [
        "#Criação da classe livro:\n",
        "  # - Métodos: título e autor\n",
        "\n",
        "class Livro:\n",
        "    def __init__(self, título, autor):\n",
        "        self.título = título\n",
        "        self.autor = autor\n",
        "\n",
        "#Método descrever:\n",
        "    def descrever(self):\n",
        "        print(\"O livro {self.título} foi escrito por {self.autor}.\")\n",
        "\n",
        "#Instanciando o objeto e chamando o método descrever:\n",
        "        livro1 = Livro(\"O Quinze\",\"Rachel de Queiroz\")\n",
        "        livro1.descrever()\n",
        "\n",
        "#Criação da Classe Ebook:\n",
        "\n",
        "class Ebook(Livro):\n",
        "    def __init__(self, título, autor, formato):\n",
        "        super().__init__(título,autor)\n",
        "        self.formato = formato\n",
        "\n",
        "#Sobrescrevendo o método descrever:\n",
        "\n",
        "    def descrever(self):\n",
        "        print(\"O livro {self.título} foi escrito por {self.autor} utilizando o formato {self.formato}.\")\n",
        "\n",
        "#Tornando os atributos privados:\n",
        "\n",
        "class Livro:\n",
        "    def __init__(self, título, autor):\n",
        "        self.__título = título\n",
        "        self.__autor = autor\n",
        "\n",
        "#Get e Set:\n",
        "\n",
        "    def get_titulo(self):\n",
        "        return self.__titulo\n",
        "\n",
        "    def set_titulo(self):\n",
        "        self.titulo = titulo\n",
        "\n",
        "    def get_autor(self):\n",
        "        return self.__autor\n",
        "\n",
        "    def set_autor(self):\n",
        "        self.titulo = autor\n",
        "\n",
        "#Criando a função imprimir_descricao e demonstrando o polimorfismo:\n",
        "\n",
        "def imprimir_descricao(obj):\n",
        "    obj.descrever()\n",
        "\n",
        "    ebook1 = Ebook(\"Harry Potter\", \"J.K Rowling\", \".pdf\")\n",
        "    livro1 = Livro(\"O Quinze\",\"Rachel de Queiroz\")\n",
        "\n",
        "    imprimir_descricao(livro1)\n",
        "    imprimir_descricao(ebook1)\n",
        "\n",
        "\n",
        "\n",
        "\n",
        "\n",
        "\n",
        "\n",
        "\n",
        "\n",
        "\n",
        "\n",
        "\n",
        "\n",
        "\n",
        "\n",
        "\n",
        "\n",
        "\n",
        "\n",
        "\n",
        "\n"
      ]
    },
    {
      "cell_type": "code",
      "source": [
        "\n",
        "\n"
      ],
      "metadata": {
        "id": "I2BuoLZoiKM_"
      },
      "execution_count": null,
      "outputs": []
    },
    {
      "cell_type": "code",
      "source": [],
      "metadata": {
        "id": "oVycLIDliKiB"
      },
      "execution_count": null,
      "outputs": []
    },
    {
      "cell_type": "code",
      "source": [],
      "metadata": {
        "id": "1VyfZrgDiKky"
      },
      "execution_count": null,
      "outputs": []
    },
    {
      "cell_type": "code",
      "source": [],
      "metadata": {
        "id": "0k7_C6f0iKn_"
      },
      "execution_count": null,
      "outputs": []
    }
  ]
}